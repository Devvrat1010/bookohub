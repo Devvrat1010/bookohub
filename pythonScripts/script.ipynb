{
 "cells": [
  {
   "cell_type": "code",
   "execution_count": null,
   "metadata": {},
   "outputs": [],
   "source": [
    "import numpy as np\n",
    "from numpy import random"
   ]
  },
  {
   "cell_type": "code",
   "execution_count": null,
   "metadata": {},
   "outputs": [],
   "source": [
    "import json\n",
    "\n",
    "title=np.array([\"Book Cover\",\"Design Formula\",\"Psychology of Money\",\"Smart Reading\",\"The Dress and The Girl\",\"Time Shaker\"])\n",
    "\n",
    "price=[\"200\",\"500\",\"300\",\"100\",\"699\",\"435\",\"200\",\"2000\",\"200\",\"400\",\"399\",\"333\"]\n",
    "\n",
    "condition=np.array([\"Brand New\",\"Used (Good)\",\"Used (Readadble)\",\"Used (Not Good)\"])\n",
    "\n",
    "rating=np.array([\"1\",\"2\",\"3\",\"4\",\"5\"])\n",
    "\n",
    "city=np.array([\"Mumbai\",\"Delhi\",\"Bangalore\",\"Hyderabad\",\"Ahmedabad\",\"Chennai\",\"Kolkata\"])\n",
    "\n",
    "# f=np.array([f1,f2,f3,f4,f5])\n",
    "\n",
    "owner=np.array([\"user_2ZXhyT5ABjf6Trqwtr3fQbRwPQS\",\"user_2ZcrQdsFWCcGzx4FzXrcVg4UHQV\"])\n",
    "\n",
    "onRent=np.array([\"True\",\"False\"])\n",
    "\n",
    "\n",
    "ans=[]\n",
    "\n",
    "res=open(\"data.json\",\"w\")\n",
    "\n",
    "for i in range(10):\n",
    "    t=random.choice(title)\n",
    "    p=random.choice(price)\n",
    "    c=random.choice(condition)\n",
    "    r=random.choice(rating)\n",
    "    ci=random.choice(city)\n",
    "    x=random.choice(f)\n",
    "    o=random.choice(owner)\n",
    "    if o==owner[0]:\n",
    "        borrower=random.choice([owner[1],\"\"])\n",
    "    else:\n",
    "        borrower=random.choice([owner[0],\"\"])\n",
    "    if borrower==\"\":\n",
    "        oR=False\n",
    "    else:\n",
    "        oR=True\n",
    "    # hashMap={\"title\":t,\"price\":p,\"condition\":c,\"rating\":r,\"city\":ci,\"image\":x,\"owner\":o,\"onRent\":oR}\n",
    "    hashMap={\"owner\":o,\"borrower\":borrower,\"onRent\":oR,\"title\":t,\"price\":p,\"condition\":c,\"rating\":r,\"city\":ci,\"image\":x}\n",
    "    ans.append(hashMap)\n",
    "\n",
    "# ans\n",
    "\n",
    "ans\n"
   ]
  }
 ],
 "metadata": {
  "kernelspec": {
   "display_name": "Python 3",
   "language": "python",
   "name": "python3"
  },
  "language_info": {
   "codemirror_mode": {
    "name": "ipython",
    "version": 3
   },
   "file_extension": ".py",
   "mimetype": "text/x-python",
   "name": "python",
   "nbconvert_exporter": "python",
   "pygments_lexer": "ipython3",
   "version": "3.11.4"
  }
 },
 "nbformat": 4,
 "nbformat_minor": 2
}
